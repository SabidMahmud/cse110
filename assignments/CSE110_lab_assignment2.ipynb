{
  "nbformat": 4,
  "nbformat_minor": 0,
  "metadata": {
    "colab": {
      "name": "CSE110_lab_assignment2.ipynb",
      "provenance": [],
      "collapsed_sections": [],
      "authorship_tag": "ABX9TyNi4AeQARXhCYj6m855hIe4",
      "include_colab_link": true
    },
    "kernelspec": {
      "name": "python3",
      "display_name": "Python 3"
    },
    "language_info": {
      "name": "python"
    }
  },
  "cells": [
    {
      "cell_type": "markdown",
      "metadata": {
        "id": "view-in-github",
        "colab_type": "text"
      },
      "source": [
        "<a href=\"https://colab.research.google.com/github/SabidMahmud/cse110/blob/main/assignments/CSE110_lab_assignment2.ipynb\" target=\"_parent\"><img src=\"https://colab.research.google.com/assets/colab-badge.svg\" alt=\"Open In Colab\"/></a>"
      ]
    },
    {
      "cell_type": "markdown",
      "source": [
        "###Task 1###"
      ],
      "metadata": {
        "id": "9ofAlmMjMbL8"
      }
    },
    {
      "cell_type": "code",
      "execution_count": 2,
      "metadata": {
        "colab": {
          "base_uri": "https://localhost:8080/"
        },
        "id": "XX8rVon_LoO8",
        "outputId": "26285ae0-f1ff-4bc4-be94-bbc689adecc4"
      },
      "outputs": [
        {
          "output_type": "stream",
          "name": "stdout",
          "text": [
            "24, 18, 12, 6, 0, -6\n",
            "-10, -5, 0, 5, 10, 15, 20\n",
            "18, 27, 36, 45, 54, 63\n",
            "18, -27, 36, -45, 54, -63\n"
          ]
        }
      ],
      "source": [
        "# a) 24, 18, 12, 6, 0, -6\n",
        "i = 24\n",
        "while i >= -6:\n",
        "    if i % 6 == 0 :\n",
        "        if i != -6 :\n",
        "            print(i, end=\", \")\n",
        "        else :\n",
        "            print(i)\n",
        "    i -= 1\n",
        "\n",
        "# b) -10, -5, 0, 5, 10, 15, 20\n",
        "\n",
        "count = -10\n",
        "while count <= 20:\n",
        "    if count%5 == 0 :\n",
        "        if count == 20 :\n",
        "            print(count)\n",
        "        else :\n",
        "            print( count, end = \", \")\n",
        "    count+= 1\n",
        "\n",
        "# c) 18, 27, 36, 45, 54, 63\n",
        "count = 18\n",
        "while count <= 63 :\n",
        "    if count == 63 :\n",
        "        print(count)\n",
        "    else :\n",
        "        print( count, end = \", \")\n",
        "    count+=9\n",
        "\n",
        "# d) 18, -27, 36, -45, 54, -63\n",
        "count = 18\n",
        "while count <= 54 :\n",
        "    if(count == 54) :\n",
        "        print(count, end=\", \")\n",
        "        print(-count-9)\n",
        "    else :\n",
        "        print(count, end=\", \")\n",
        "        print(-count-9, end=\", \")\n",
        "    count += 18"
      ]
    },
    {
      "cell_type": "markdown",
      "source": [
        "###Task 2###\n"
      ],
      "metadata": {
        "id": "KCkuPIxciT8F"
      }
    },
    {
      "cell_type": "code",
      "source": [
        "name = input(\"What is the name of your favourite car? : \")\n",
        "number = int(input(\"Enter a number : \"))\n",
        "for i in range(number) :\n",
        "    print(name)"
      ],
      "metadata": {
        "colab": {
          "base_uri": "https://localhost:8080/"
        },
        "id": "dGB-IthTiWTX",
        "outputId": "4c17c8f8-9977-43fa-bfdf-5c8b262d0f63"
      },
      "execution_count": 5,
      "outputs": [
        {
          "output_type": "stream",
          "name": "stdout",
          "text": [
            "What is the name of your favourite car? : Toyota\n",
            "Enter a number : 10\n",
            "Toyota\n",
            "Toyota\n",
            "Toyota\n",
            "Toyota\n",
            "Toyota\n",
            "Toyota\n",
            "Toyota\n",
            "Toyota\n",
            "Toyota\n",
            "Toyota\n"
          ]
        }
      ]
    },
    {
      "cell_type": "markdown",
      "source": [
        "###Task 4###\n"
      ],
      "metadata": {
        "id": "Ir9yX475j_P3"
      }
    },
    {
      "cell_type": "code",
      "source": [
        "count = 0 \n",
        "sum = 0\n",
        "while count <= 600 :\n",
        "    if count % 7 == 0 and count % 9 == 0 :\n",
        "        sum += count\n",
        "    count+=1\n",
        "print(sum)"
      ],
      "metadata": {
        "colab": {
          "base_uri": "https://localhost:8080/"
        },
        "id": "yFL8HnWrkC10",
        "outputId": "28e56427-28cf-456c-b43a-e86cc993efc6"
      },
      "execution_count": 7,
      "outputs": [
        {
          "output_type": "stream",
          "name": "stdout",
          "text": [
            "2835\n"
          ]
        }
      ]
    },
    {
      "cell_type": "markdown",
      "source": [
        "###Task 5###"
      ],
      "metadata": {
        "id": "e7ZeL6lNk2qG"
      }
    },
    {
      "cell_type": "code",
      "source": [
        "count = 0\n",
        "result = 0 \n",
        "while count <= 600 :\n",
        "    if count%7==0 and count %9 == 0 :\n",
        "        continue\n",
        "    elif count % 7 == 0 or count % 9 == 0 :\n",
        "        result += count\n",
        "    count += 1\n",
        "\n",
        "print( result )"
      ],
      "metadata": {
        "id": "wq96ONDhk42p"
      },
      "execution_count": null,
      "outputs": []
    }
  ]
}