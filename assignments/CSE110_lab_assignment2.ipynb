{
  "cells": [
    {
      "cell_type": "markdown",
      "metadata": {
        "id": "view-in-github",
        "colab_type": "text"
      },
      "source": [
        "<a href=\"https://colab.research.google.com/github/SabidMahmud/cse110/blob/main/assignments/CSE110_lab_assignment2.ipynb\" target=\"_parent\"><img src=\"https://colab.research.google.com/assets/colab-badge.svg\" alt=\"Open In Colab\"/></a>"
      ]
    },
    {
      "cell_type": "markdown",
      "metadata": {
        "id": "9ofAlmMjMbL8"
      },
      "source": [
        "###Task 1###"
      ]
    },
    {
      "cell_type": "code",
      "execution_count": null,
      "metadata": {
        "id": "XX8rVon_LoO8",
        "outputId": "631ab878-55bd-44d5-e655-2dde3ad0740b"
      },
      "outputs": [
        {
          "name": "stdout",
          "output_type": "stream",
          "text": [
            "24, 18, 12, 6, 0, -6\n",
            "-10, -5, 0, 5, 10, 15, 20\n",
            "18, 27, 36, 45, 54, 63\n",
            "18, -27, 36, -45, 54, -63\n"
          ]
        }
      ],
      "source": [
        "# a) 24, 18, 12, 6, 0, -6\n",
        "i = 24\n",
        "while i >= -6:\n",
        "    if i % 6 == 0 :\n",
        "        if i != -6 :\n",
        "            print(i, end=\", \")\n",
        "        else :\n",
        "            print(i)\n",
        "    i -= 1\n",
        "\n",
        "# b) -10, -5, 0, 5, 10, 15, 20\n",
        "\n",
        "count = -10\n",
        "while count <= 20:\n",
        "    if count%5 == 0 :\n",
        "        if count == 20 :\n",
        "            print(count)\n",
        "        else :\n",
        "            print( count, end = \", \")\n",
        "    count+= 1\n",
        "\n",
        "# c) 18, 27, 36, 45, 54, 63\n",
        "count = 18\n",
        "while count <= 63 :\n",
        "    if count == 63 :\n",
        "        print(count)\n",
        "    else :\n",
        "        print( count, end = \", \")\n",
        "    count+=9\n",
        "\n",
        "# 1. d) 18, -27, 36, -45, 54, -63\n",
        "num = 18\n",
        "while num <= 54 :\n",
        "    if(num == 54) :\n",
        "        print(num, end=\", \")\n",
        "        print(-num-9)\n",
        "    else :\n",
        "        print(num, end=\", \")\n",
        "        print(-num-9, end=\", \")\n",
        "    num += 18"
      ]
    },
    {
      "cell_type": "markdown",
      "metadata": {
        "id": "KCkuPIxciT8F"
      },
      "source": [
        "###Task 2###\n"
      ]
    },
    {
      "cell_type": "code",
      "execution_count": null,
      "metadata": {
        "id": "dGB-IthTiWTX"
      },
      "outputs": [],
      "source": [
        "name = input(\"What is the name of your favourite car? : \")\n",
        "number = int(input(\"Enter a number : \"))\n",
        "for i in range(number) :\n",
        "    print(name)"
      ]
    },
    {
      "cell_type": "markdown",
      "metadata": {
        "id": "Ir9yX475j_P3"
      },
      "source": [
        "###Task 3###\n"
      ]
    },
    {
      "cell_type": "code",
      "execution_count": null,
      "metadata": {
        "id": "yFL8HnWrkC10"
      },
      "outputs": [],
      "source": [
        "count = 0 \n",
        "sum = 0\n",
        "while count <= 600 :\n",
        "    if count % 7 == 0 and count % 9 == 0 :\n",
        "        sum += count\n",
        "    count+=1\n",
        "\n",
        "print(sum)"
      ]
    },
    {
      "cell_type": "markdown",
      "metadata": {
        "id": "e7ZeL6lNk2qG"
      },
      "source": [
        "###Task 4###"
      ]
    },
    {
      "cell_type": "code",
      "execution_count": null,
      "metadata": {
        "id": "ldFc7UBa_u5X"
      },
      "outputs": [],
      "source": [
        "result = 0 \n",
        "for i in range(1, 600+1) :\n",
        "    if i % 7 == 0 or i % 9 == 0 : \n",
        "        if i % 7 == 0 and i % 9 == 0 :\n",
        "            continue\n",
        "        else:\n",
        "            result += i\n",
        "    else :\n",
        "        continue\n",
        "\n",
        "print( result )"
      ]
    },
    {
      "cell_type": "markdown",
      "metadata": {
        "id": "kKqfuI0a5-PL"
      },
      "source": [
        "###Task 5###\n"
      ]
    },
    {
      "cell_type": "code",
      "execution_count": null,
      "metadata": {
        "id": "lznsQNY_6Bli"
      },
      "outputs": [],
      "source": [
        "for i in range(10, 50+1):\n",
        "    if i%2 != 0 :\n",
        "        print( i, end=\" \")"
      ]
    },
    {
      "cell_type": "markdown",
      "metadata": {
        "id": "bVmtKOFH6fqs"
      },
      "source": [
        "###Task 6###"
      ]
    },
    {
      "cell_type": "code",
      "execution_count": null,
      "metadata": {
        "id": "IpR5tnce6kNi"
      },
      "outputs": [],
      "source": [
        "import math\n",
        "n = int( input(\"n = \"))\n",
        "y = 0\n",
        "for i in range(1, n+1) :\n",
        "    if i%2 == 0 :\n",
        "        y -= pow(i, 2)\n",
        "    else :\n",
        "        y += pow(i, 2)\n",
        "\n",
        "print( y )"
      ]
    },
    {
      "cell_type": "markdown",
      "metadata": {
        "id": "D-tjtimv9Kbd"
      },
      "source": [
        "###Task 7###\n"
      ]
    },
    {
      "cell_type": "code",
      "execution_count": null,
      "metadata": {
        "id": "djELtqMb9OPt"
      },
      "outputs": [],
      "source": [
        "sum = 0\n",
        "count = 0\n",
        "for i in range(10):\n",
        "    n = int(input())\n",
        "    if n%2 != 0 :\n",
        "        sum+=n\n",
        "        count+=1\n",
        "\n",
        "average = sum/count\n",
        "print(\"The total of the odd numbers is\", sum, \"and their average is\", average)"
      ]
    },
    {
      "cell_type": "markdown",
      "metadata": {
        "id": "ujpOABcUAhHA"
      },
      "source": [
        "###Task 8###"
      ]
    },
    {
      "cell_type": "code",
      "execution_count": null,
      "metadata": {
        "id": "LbkaNeS-AkUE"
      },
      "outputs": [],
      "source": [
        "n = int(input(\"Enter the value of N : \"))\n",
        "sum = 0\n",
        "for i in range(n+1) :\n",
        "    if i % 7 == 0 :\n",
        "        sum += i\n",
        "\n",
        "print( sum )"
      ]
    },
    {
      "cell_type": "markdown",
      "metadata": {
        "id": "6RhGKUipCidv"
      },
      "source": [
        "###Task 9###"
      ]
    },
    {
      "cell_type": "code",
      "execution_count": null,
      "metadata": {
        "id": "LGxE_dcFCkip"
      },
      "outputs": [],
      "source": [
        "sum1 = 0\n",
        "sum2 = 0\n",
        "for i in range(5) :\n",
        "    n = int(input())\n",
        "    sum = sum + n\n",
        "    print( sum )"
      ]
    },
    {
      "cell_type": "markdown",
      "metadata": {
        "id": "8moo6jXKERiJ"
      },
      "source": [
        "###Task 10###"
      ]
    },
    {
      "cell_type": "code",
      "execution_count": null,
      "metadata": {
        "id": "Rj_ekozdET_y"
      },
      "outputs": [],
      "source": [
        "number = int(input())\n",
        "while True :\n",
        "    d = number % 10\n",
        "    number //= 10\n",
        "    if number == 0 :\n",
        "        print(d)\n",
        "        break\n",
        "    else :\n",
        "        print(d, end = \", \")"
      ]
    },
    {
      "cell_type": "markdown",
      "metadata": {
        "id": "F_EaX-ZjH6GH"
      },
      "source": [
        "###Task 11###"
      ]
    },
    {
      "cell_type": "code",
      "execution_count": null,
      "metadata": {
        "id": "M4v9Fy3QH8aV"
      },
      "outputs": [],
      "source": [
        "n = int( input(\"N : \"))\n",
        "count = 0\n",
        "while True :\n",
        "    n //= 10\n",
        "    count += 1\n",
        "    if n == 0 :\n",
        "        break\n",
        "\n",
        "print( count )"
      ]
    },
    {
      "cell_type": "markdown",
      "metadata": {
        "id": "I3LWG7G4IdqR"
      },
      "source": [
        "###Task 12###"
      ]
    },
    {
      "cell_type": "code",
      "execution_count": null,
      "metadata": {
        "id": "8aQ9Q5IaIhNr"
      },
      "outputs": [],
      "source": [
        "import math \n",
        "n = int( input(\"N : \"))\n",
        "number = n\n",
        "count = 0\n",
        "while True :\n",
        "    n //= 10\n",
        "    count += 1\n",
        "    if n == 0 :\n",
        "        break\n",
        "\n",
        "while True :\n",
        "    count = count - 1\n",
        "    digit = number // pow(10, count)\n",
        "    number %= pow(10, count)\n",
        "    if number != 0 :\n",
        "        print( digit, end = \", \")\n",
        "    else :\n",
        "        print( digit, end = \"\")\n",
        "        break"
      ]
    },
    {
      "cell_type": "markdown",
      "metadata": {
        "id": "hq9R95Hu5cVe"
      },
      "source": [
        "###Task 13 ###\n"
      ]
    },
    {
      "cell_type": "code",
      "execution_count": null,
      "metadata": {
        "id": "EGrcCKjG5fq2"
      },
      "outputs": [],
      "source": [
        "num = int( input(\"Number : \") )\n",
        "count = 0\n",
        "for i in range( 1, int(num/2)+1 ) :\n",
        "    if num % i == 0 :\n",
        "        print(i, end = \", \")\n",
        "        count+=1 \n",
        "\n",
        "print( num )\n",
        "print( count )"
      ]
    },
    {
      "cell_type": "markdown",
      "metadata": {
        "id": "K6vljQVryPBJ"
      },
      "source": [
        "###Task 14###"
      ]
    },
    {
      "cell_type": "code",
      "execution_count": null,
      "metadata": {
        "id": "1NQAm3k2yOZg"
      },
      "outputs": [],
      "source": [
        "number = int( input(\"Enter Number : \") )\n",
        "sum = 0\n",
        "for i in range( 1, int(number/2)+1 ) :\n",
        "    if number % i == 0 :\n",
        "        sum += i\n",
        "\n",
        "if sum == number :\n",
        "    print( number, \"is a perfect number\" )\n",
        "else :\n",
        "    print( number, \"is not a perfect number\")"
      ]
    },
    {
      "cell_type": "markdown",
      "metadata": {
        "id": "5Ss5Opr21xV8"
      },
      "source": [
        "###Task 15###"
      ]
    },
    {
      "cell_type": "code",
      "execution_count": 8,
      "metadata": {
        "id": "c_jHbbd6113s",
        "colab": {
          "base_uri": "https://localhost:8080/"
        },
        "outputId": "014f6a4c-d5f0-401d-b30c-a7f2b6cd17b3"
      },
      "outputs": [
        {
          "output_type": "stream",
          "name": "stdout",
          "text": [
            "111111111111373\n",
            "111111111111373 is not a prime number\n"
          ]
        }
      ],
      "source": [
        "num=int(input())\n",
        "prime = True\n",
        "if num < 2 :\n",
        "    prime = False\n",
        "else :\n",
        "    for i in range( 2, int(num/2)+1 ) :\n",
        "        if num%i == 0 :\n",
        "            prime = False\n",
        "            break\n",
        "\n",
        "if prime :\n",
        "    print(num, \"is a prime number\")\n",
        "else :\n",
        "    print(num, \"is not a prime number\")"
      ]
    },
    {
      "cell_type": "code",
      "source": [
        "#scratch \n",
        "n = int( input())\n",
        "prime = 0\n",
        "for i in range(2, int(n/2)+1, 1) :\n",
        "    if n%i != 0 :\n",
        "        prime = 1\n",
        "        # break\n",
        "    else :\n",
        "        prime = 0\n",
        "\n",
        "if prime == 1 :\n",
        "    print(n, \"is a prime number\")\n",
        "else :\n",
        "    print( n,\"is not a prime number\")"
      ],
      "metadata": {
        "colab": {
          "base_uri": "https://localhost:8080/"
        },
        "id": "n0E3ZhtjwEyc",
        "outputId": "95a42891-1c58-432a-ea11-0d901780ea43"
      },
      "execution_count": 4,
      "outputs": [
        {
          "output_type": "stream",
          "name": "stdout",
          "text": [
            "3\n",
            "3 is not a prime number\n"
          ]
        }
      ]
    },
    {
      "cell_type": "markdown",
      "metadata": {
        "id": "k4qufaJ_-uDr"
      },
      "source": [
        "###Task 16###"
      ]
    },
    {
      "cell_type": "code",
      "execution_count": null,
      "metadata": {
        "id": "XeMG6frx-w26"
      },
      "outputs": [],
      "source": [
        "i = n = int(input())\n",
        "max = min = 0\n",
        "sum = 0\n",
        "while i > 0 :\n",
        "    i -= 1\n",
        "    number = int( input() )\n",
        "    if number >= max :\n",
        "        max = number\n",
        "    \n",
        "    if number <= min :\n",
        "        min = number\n",
        "    \n",
        "    sum = sum + number\n",
        "\n",
        "print( \"Maximum %d\\nMinimum %d\\nAverage is %g\" %(max, min, sum/n))"
      ]
    },
    {
      "cell_type": "markdown",
      "metadata": {
        "id": "OiSFu4eH5-_Z"
      },
      "source": [
        "###Task 17###\n"
      ]
    },
    {
      "cell_type": "code",
      "execution_count": null,
      "metadata": {
        "id": "4W2g4GqD6JMO"
      },
      "outputs": [],
      "source": [
        "number = int( input( ) )\n",
        "for i in range(number) :\n",
        "    for j in range(number) :\n",
        "        if j == number-1 :\n",
        "            print(\"+\")\n",
        "        else :\n",
        "            print(\"+\", end = \"\")"
      ]
    },
    {
      "cell_type": "markdown",
      "metadata": {
        "id": "lckAsJqp7ol-"
      },
      "source": [
        "###Task 18###"
      ]
    },
    {
      "cell_type": "code",
      "execution_count": null,
      "metadata": {
        "id": "AzQfsss-72kv"
      },
      "outputs": [],
      "source": [
        "line = int( input(\"Lines: \") )\n",
        "column = int( input(\"Columns: \") )\n",
        "for i in range( 1, line+1):\n",
        "    for j in range(1, column+1) :\n",
        "        if j == column :\n",
        "            print(j)\n",
        "        else :\n",
        "            print( j, end = \"\" )"
      ]
    },
    {
      "cell_type": "markdown",
      "metadata": {
        "id": "REEIQkn88vT-"
      },
      "source": [
        "###Task 19###"
      ]
    },
    {
      "cell_type": "code",
      "execution_count": null,
      "metadata": {
        "id": "NPzwATfS8ygK"
      },
      "outputs": [],
      "source": [
        "N = int( input() )\n",
        "for i in range(1, N+1) :\n",
        "    for j in range(1,i+1) :\n",
        "        print(j, end = \"\")\n",
        "        if j == i :\n",
        "            print(\"\")\n",
        "        "
      ]
    },
    {
      "cell_type": "markdown",
      "metadata": {
        "id": "l8NV8nm-e_iG"
      },
      "source": [
        "###Task 26### \n",
        "Finding the fibonacci series"
      ]
    },
    {
      "cell_type": "code",
      "execution_count": null,
      "metadata": {
        "colab": {
          "base_uri": "https://localhost:8080/"
        },
        "id": "9LTXRsPke_iG",
        "outputId": "d0fa3848-7b9d-4669-e250-750ad986ce5b"
      },
      "outputs": [
        {
          "output_type": "stream",
          "name": "stdout",
          "text": [
            "15\n",
            "0 1 1 2 3 5 8 13 "
          ]
        }
      ],
      "source": [
        "n = int( input() )\n",
        "n1 = 0\n",
        "n2 = 1\n",
        "nth = 0\n",
        "while nth <= n :\n",
        "    print( nth, end = \" \" )\n",
        "    n1 = n2\n",
        "    n2 = nth\n",
        "    nth = n1+n2    "
      ]
    },
    {
      "cell_type": "markdown",
      "metadata": {
        "id": "2CD7RE2ze_iG"
      },
      "source": [
        "###Task 26###\n",
        "Print binary"
      ]
    },
    {
      "cell_type": "code",
      "execution_count": null,
      "metadata": {
        "id": "L4B57Jo5e_iH"
      },
      "outputs": [],
      "source": [
        "number = int(input())\n",
        "reverse = []\n",
        "while number > 0:\n",
        "    digit = number%2\n",
        "    number = number//2\n",
        "    reverse.append(digit)\n",
        "    # print( digit, end = \"\" )\n",
        "\n",
        "for i in range(-1, -len(reverse)-1, -1):\n",
        "    print(reverse[i], end=\"\")"
      ]
    },
    {
      "cell_type": "markdown",
      "source": [
        "###Task 27###"
      ],
      "metadata": {
        "id": "rkWQAbTgtW_q"
      }
    },
    {
      "cell_type": "code",
      "source": [
        "import math\n",
        "\n",
        "number = input()\n",
        "k = len(number)\n",
        "decimal = 0\n",
        "for digit in number:\n",
        "    k -= 1\n",
        "    decimal += int(digit) * pow(2, k)\n",
        "print( decimal )"
      ],
      "metadata": {
        "id": "a-E5B7i6tfIK"
      },
      "execution_count": null,
      "outputs": []
    },
    {
      "cell_type": "markdown",
      "source": [
        "###Task 28###\n",
        "***Incomplete, need to work on it***   \n",
        "find the perfect and prime numbers within the given range"
      ],
      "metadata": {
        "id": "l4utHT9_x5Ku"
      }
    },
    {
      "cell_type": "code",
      "source": [
        "#find the perfect num\n",
        "def perfect( n ) :\n",
        "    sum = 0\n",
        "    for i in range( 1, int(n/2)+1 ) :\n",
        "        if n % i == 0 :\n",
        "            sum += i\n",
        "    if sum == n :\n",
        "        return True\n",
        "\n",
        "#find the prime number\n",
        "def prime( num ) :\n",
        "    prime = True\n",
        "    if num < 2 :\n",
        "        prime = False\n",
        "    else :\n",
        "        for i in range( 2, int(num/2)+1 ) :\n",
        "            if num%i == 0 :\n",
        "                prime = False\n",
        "                break\n",
        "    return True if prime else False\n",
        "\n",
        "start = int( input(\"Starting : \"))\n",
        "end = int( input(\"Ending : \") )\n",
        "prime_num = []\n",
        "perfect_num = []\n",
        "for num in range(start, end+1) :\n",
        "    if prime( num ) is True :\n",
        "        prime_num.append( num )\n",
        "    if perfect( num ) is True :\n",
        "        perfect_num.append( num )\n",
        "\n",
        "print(\"Between\", start, \"and\", end)\n",
        "print(\"Found\", len(prime_num),\n",
        "      \"prime numbers\" if len(prime_num)> 1 else \"prime number\")\n",
        "print(\"Found\", len(perfect_num),\n",
        "      \"perfect numbers\" if len(perfect_num)>1 else \"perfect number\")\n",
        "# print(\"Prime numbers:\" *prime_num, sep=\", \")\n",
        "print(\"Prime numbers:\", end = \" \")\n",
        "for i in prime_num :\n",
        "    if i == prime_num[-1] :\n",
        "        print( i, end = \"\\n\")\n",
        "    else :\n",
        "        print(i, end = \", \")\n",
        "# print(\"Perfect number:\" *perfect_num, sep=\", \")\n",
        "print(\"Perfect numbers:\", end=\" \")\n",
        "for i in perfect_num :\n",
        "    if i == perfect_num[-1] :\n",
        "        print( i )\n",
        "    else :\n",
        "        print(i, end = \", \")"
      ],
      "metadata": {
        "id": "oj6qvxeHx84v",
        "colab": {
          "base_uri": "https://localhost:8080/"
        },
        "outputId": "87c26b38-87d8-4f1b-91ca-2fd589e7567d"
      },
      "execution_count": 12,
      "outputs": [
        {
          "output_type": "stream",
          "name": "stdout",
          "text": [
            "Starting : 1\n",
            "Ending : 50\n",
            "Between 1 and 50\n",
            "Found 15 prime numbers\n",
            "Found 2 perfect numbers\n",
            "Prime numbers: 2, 3, 5, 7, 11, 13, 17, 19, 23, 29, 31, 37, 41, 43, 47\n",
            "Perfect numbers: 6, 28\n"
          ]
        }
      ]
    }
  ],
  "metadata": {
    "colab": {
      "collapsed_sections": [],
      "name": "CSE110_lab_assignment2.ipynb",
      "provenance": [],
      "include_colab_link": true
    },
    "interpreter": {
      "hash": "3dff110607804ff61e1860eea716eb3f37868ba4a42fc6510b3542cdb82401a0"
    },
    "kernelspec": {
      "display_name": "Python 3.10.5 64-bit (windows store)",
      "language": "python",
      "name": "python3"
    },
    "language_info": {
      "codemirror_mode": {
        "name": "ipython",
        "version": 3
      },
      "file_extension": ".py",
      "mimetype": "text/x-python",
      "name": "python",
      "nbconvert_exporter": "python",
      "pygments_lexer": "ipython3",
      "version": "3.10.5"
    }
  },
  "nbformat": 4,
  "nbformat_minor": 0
}