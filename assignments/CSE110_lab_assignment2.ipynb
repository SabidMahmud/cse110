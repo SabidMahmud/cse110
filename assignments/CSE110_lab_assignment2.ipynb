{
  "cells": [
    {
      "cell_type": "markdown",
      "metadata": {
        "colab_type": "text",
        "id": "view-in-github"
      },
      "source": [
        "<a href=\"https://colab.research.google.com/github/SabidMahmud/cse110/blob/main/assignments/CSE110_lab_assignment2.ipynb\" target=\"_parent\"><img src=\"https://colab.research.google.com/assets/colab-badge.svg\" alt=\"Open In Colab\"/></a>"
      ]
    },
    {
      "cell_type": "markdown",
      "metadata": {
        "id": "9ofAlmMjMbL8"
      },
      "source": [
        "###Task 1###"
      ]
    },
    {
      "cell_type": "code",
      "execution_count": 1,
      "metadata": {
        "id": "XX8rVon_LoO8"
      },
      "outputs": [
        {
          "name": "stdout",
          "output_type": "stream",
          "text": [
            "24, 18, 12, 6, 0, -6\n",
            "-10, -5, 0, 5, 10, 15, 20\n",
            "18, 27, 36, 45, 54, 63\n",
            "18, -27, 36, -45, 54, -63\n"
          ]
        }
      ],
      "source": [
        "# a) 24, 18, 12, 6, 0, -6\n",
        "i = 24\n",
        "while i >= -6:\n",
        "    if i % 6 == 0 :\n",
        "        if i != -6 :\n",
        "            print(i, end=\", \")\n",
        "        else :\n",
        "            print(i)\n",
        "    i -= 1\n",
        "\n",
        "# b) -10, -5, 0, 5, 10, 15, 20\n",
        "\n",
        "count = -10\n",
        "while count <= 20:\n",
        "    if count%5 == 0 :\n",
        "        if count == 20 :\n",
        "            print(count)\n",
        "        else :\n",
        "            print( count, end = \", \")\n",
        "    count+= 1\n",
        "\n",
        "# c) 18, 27, 36, 45, 54, 63\n",
        "count = 18\n",
        "while count <= 63 :\n",
        "    if count == 63 :\n",
        "        print(count)\n",
        "    else :\n",
        "        print( count, end = \", \")\n",
        "    count+=9\n",
        "\n",
        "# 1. d) 18, -27, 36, -45, 54, -63\n",
        "num = 18\n",
        "while num <= 54 :\n",
        "    if(num == 54) :\n",
        "        print(num, end=\", \")\n",
        "        print(-num-9)\n",
        "    else :\n",
        "        print(num, end=\", \")\n",
        "        print(-num-9, end=\", \")\n",
        "    num += 18"
      ]
    },
    {
      "cell_type": "markdown",
      "metadata": {
        "id": "KCkuPIxciT8F"
      },
      "source": [
        "###Task 2###\n"
      ]
    },
    {
      "cell_type": "code",
      "execution_count": null,
      "metadata": {
        "id": "dGB-IthTiWTX"
      },
      "outputs": [],
      "source": [
        "name = input(\"What is the name of your favourite car? : \")\n",
        "number = int(input(\"Enter a number : \"))\n",
        "for i in range(number) :\n",
        "    print(name)"
      ]
    },
    {
      "cell_type": "markdown",
      "metadata": {
        "id": "Ir9yX475j_P3"
      },
      "source": [
        "###Task 3###\n"
      ]
    },
    {
      "cell_type": "code",
      "execution_count": null,
      "metadata": {
        "id": "yFL8HnWrkC10"
      },
      "outputs": [],
      "source": [
        "count = 0 \n",
        "sum = 0\n",
        "while count <= 600 :\n",
        "    if count % 7 == 0 and count % 9 == 0 :\n",
        "        sum += count\n",
        "    count+=1\n",
        "\n",
        "print(sum)"
      ]
    },
    {
      "cell_type": "markdown",
      "metadata": {
        "id": "e7ZeL6lNk2qG"
      },
      "source": [
        "###Task 4###"
      ]
    },
    {
      "cell_type": "code",
      "execution_count": null,
      "metadata": {
        "id": "ldFc7UBa_u5X"
      },
      "outputs": [],
      "source": [
        "result = 0 \n",
        "for i in range(1, 600+1) :\n",
        "    if i % 7 == 0 or i % 9 == 0 : \n",
        "        if i % 7 == 0 and i % 9 == 0 :\n",
        "            continue\n",
        "        else:\n",
        "            result += i\n",
        "    else :\n",
        "        continue\n",
        "\n",
        "print( result )"
      ]
    },
    {
      "cell_type": "markdown",
      "metadata": {
        "id": "kKqfuI0a5-PL"
      },
      "source": [
        "###Task 5###\n"
      ]
    },
    {
      "cell_type": "code",
      "execution_count": null,
      "metadata": {
        "id": "lznsQNY_6Bli"
      },
      "outputs": [],
      "source": [
        "for i in range(10, 50+1):\n",
        "    if i%2 != 0 :\n",
        "        print( i, end=\" \")"
      ]
    },
    {
      "cell_type": "markdown",
      "metadata": {
        "id": "bVmtKOFH6fqs"
      },
      "source": [
        "###Task 6###"
      ]
    },
    {
      "cell_type": "code",
      "execution_count": null,
      "metadata": {
        "id": "IpR5tnce6kNi"
      },
      "outputs": [],
      "source": [
        "import math\n",
        "n = int( input(\"n = \"))\n",
        "y = 0\n",
        "for i in range(1, n+1) :\n",
        "    if i%2 == 0 :\n",
        "        y -= pow(i, 2)\n",
        "    else :\n",
        "        y += pow(i, 2)\n",
        "\n",
        "print( y )"
      ]
    },
    {
      "cell_type": "markdown",
      "metadata": {
        "id": "D-tjtimv9Kbd"
      },
      "source": [
        "###Task 7###\n"
      ]
    },
    {
      "cell_type": "code",
      "execution_count": null,
      "metadata": {
        "id": "djELtqMb9OPt"
      },
      "outputs": [],
      "source": [
        "sum = 0\n",
        "count = 0\n",
        "for i in range(10):\n",
        "    n = int(input())\n",
        "    if n%2 != 0 :\n",
        "        sum+=n\n",
        "        count+=1\n",
        "\n",
        "average = sum/count\n",
        "print(\"The total of the odd numbers is\", sum, \"and their average is\", average)"
      ]
    },
    {
      "cell_type": "markdown",
      "metadata": {
        "id": "ujpOABcUAhHA"
      },
      "source": [
        "###Task 8###"
      ]
    },
    {
      "cell_type": "code",
      "execution_count": null,
      "metadata": {
        "id": "LbkaNeS-AkUE"
      },
      "outputs": [],
      "source": [
        "n = int(input(\"Enter the value of N : \"))\n",
        "sum = 0\n",
        "for i in range(n+1) :\n",
        "    if i % 7 == 0 :\n",
        "        sum += i\n",
        "\n",
        "print( sum )"
      ]
    },
    {
      "cell_type": "markdown",
      "metadata": {
        "id": "6RhGKUipCidv"
      },
      "source": [
        "###Task 9###"
      ]
    },
    {
      "cell_type": "code",
      "execution_count": null,
      "metadata": {
        "id": "LGxE_dcFCkip"
      },
      "outputs": [],
      "source": [
        "sum1 = 0\n",
        "sum2 = 0\n",
        "for i in range(5) :\n",
        "    n = int(input())\n",
        "    sum = sum + n\n",
        "    print( sum )"
      ]
    },
    {
      "cell_type": "markdown",
      "metadata": {
        "id": "8moo6jXKERiJ"
      },
      "source": [
        "###Task 10###"
      ]
    },
    {
      "cell_type": "code",
      "execution_count": null,
      "metadata": {
        "id": "Rj_ekozdET_y"
      },
      "outputs": [],
      "source": [
        "number = int(input())\n",
        "while True :\n",
        "    d = number % 10\n",
        "    number //= 10\n",
        "    if number == 0 :\n",
        "        print(d)\n",
        "        break\n",
        "    else :\n",
        "        print(d, end = \", \")"
      ]
    },
    {
      "cell_type": "markdown",
      "metadata": {
        "id": "F_EaX-ZjH6GH"
      },
      "source": [
        "###Task 11###"
      ]
    },
    {
      "cell_type": "code",
      "execution_count": null,
      "metadata": {
        "id": "M4v9Fy3QH8aV"
      },
      "outputs": [],
      "source": [
        "n = int( input(\"N : \"))\n",
        "count = 0\n",
        "while True :\n",
        "    n //= 10\n",
        "    count += 1\n",
        "    if n == 0 :\n",
        "        break\n",
        "\n",
        "print( count )"
      ]
    },
    {
      "cell_type": "markdown",
      "metadata": {
        "id": "I3LWG7G4IdqR"
      },
      "source": [
        "###Task 12###"
      ]
    },
    {
      "cell_type": "code",
      "execution_count": null,
      "metadata": {
        "id": "8aQ9Q5IaIhNr"
      },
      "outputs": [],
      "source": [
        "import math \n",
        "n = int( input(\"N : \"))\n",
        "number = n\n",
        "count = 0\n",
        "while True :\n",
        "    n //= 10\n",
        "    count += 1\n",
        "    if n == 0 :\n",
        "        break\n",
        "\n",
        "while True :\n",
        "    count = count - 1\n",
        "    digit = number // pow(10, count)\n",
        "    number %= pow(10, count)\n",
        "    if number != 0 :\n",
        "        print( digit, end = \", \")\n",
        "    else :\n",
        "        print( digit, end = \"\")\n",
        "        break"
      ]
    },
    {
      "cell_type": "markdown",
      "metadata": {
        "id": "hq9R95Hu5cVe"
      },
      "source": [
        "###Task 13 ###\n"
      ]
    },
    {
      "cell_type": "code",
      "execution_count": null,
      "metadata": {
        "id": "EGrcCKjG5fq2"
      },
      "outputs": [],
      "source": [
        "num = int( input(\"Number : \") )\n",
        "count = 0\n",
        "for i in range( 1, int(num/2)+1 ) :\n",
        "    if num % i == 0 :\n",
        "        print(i, end = \", \")\n",
        "        count+=1 \n",
        "\n",
        "print( num )\n",
        "print( count )"
      ]
    },
    {
      "cell_type": "markdown",
      "metadata": {
        "id": "K6vljQVryPBJ"
      },
      "source": [
        "###Task 14###"
      ]
    },
    {
      "cell_type": "code",
      "execution_count": null,
      "metadata": {
        "id": "1NQAm3k2yOZg"
      },
      "outputs": [],
      "source": [
        "number = int( input(\"Enter Number : \") )\n",
        "sum = 0\n",
        "for i in range( 1, int(number/2)+1 ) :\n",
        "    if number % i == 0 :\n",
        "        sum += i\n",
        "\n",
        "if sum == number :\n",
        "    print( number, \"is a perfect number\" )\n",
        "else :\n",
        "    print( number, \"is not a perfect number\")"
      ]
    },
    {
      "cell_type": "markdown",
      "metadata": {
        "id": "5Ss5Opr21xV8"
      },
      "source": [
        "###Task 15###"
      ]
    },
    {
      "cell_type": "code",
      "execution_count": null,
      "metadata": {
        "id": "c_jHbbd6113s"
      },
      "outputs": [],
      "source": [
        "number = int(input(\"Number : \"))\n",
        "prime_num = 0\n",
        "for i in range(2, int(number/2)+1) :\n",
        "    if number%i != 0 :\n",
        "        prime_num = 1\n",
        "    # else :\n",
        "    #     prime_num = 1\n",
        "\n",
        "if prime_num == 1 :\n",
        "    print(number, \"is a prime number\")\n",
        "else :\n",
        "    print( number, \"is not a prime number\")"
      ]
    },
    {
      "cell_type": "markdown",
      "metadata": {
        "id": "k4qufaJ_-uDr"
      },
      "source": [
        "###Task 16###"
      ]
    },
    {
      "cell_type": "code",
      "execution_count": null,
      "metadata": {
        "id": "XeMG6frx-w26"
      },
      "outputs": [],
      "source": [
        "i = n = int(input())\n",
        "max = min = 0\n",
        "sum = 0\n",
        "while i > 0 :\n",
        "    i -= 1\n",
        "    number = int( input() )\n",
        "    if number >= max :\n",
        "        max = number\n",
        "    \n",
        "    if number <= min :\n",
        "        min = number\n",
        "    \n",
        "    sum = sum + number\n",
        "\n",
        "print( \"Maximum %d\\nMinimum %d\\nAverage is %g\" %(max, min, sum/n))"
      ]
    },
    {
      "cell_type": "markdown",
      "metadata": {
        "id": "OiSFu4eH5-_Z"
      },
      "source": [
        "###Task 17###\n"
      ]
    },
    {
      "cell_type": "code",
      "execution_count": null,
      "metadata": {
        "id": "4W2g4GqD6JMO"
      },
      "outputs": [],
      "source": [
        "number = int( input( ) )\n",
        "for i in range(number) :\n",
        "    for j in range(number) :\n",
        "        if j == number-1 :\n",
        "            print(\"+\")\n",
        "        else :\n",
        "            print(\"+\", end = \"\")"
      ]
    },
    {
      "cell_type": "markdown",
      "metadata": {
        "id": "lckAsJqp7ol-"
      },
      "source": [
        "###Task 18###"
      ]
    },
    {
      "cell_type": "code",
      "execution_count": null,
      "metadata": {
        "id": "AzQfsss-72kv"
      },
      "outputs": [],
      "source": [
        "line = int( input(\"Lines: \") )\n",
        "column = int( input(\"Columns: \") )\n",
        "for i in range( 1, line+1):\n",
        "    for j in range(1, column+1) :\n",
        "        if j == column :\n",
        "            print(j)\n",
        "        else :\n",
        "            print( j, end = \"\" )"
      ]
    },
    {
      "cell_type": "markdown",
      "metadata": {
        "id": "REEIQkn88vT-"
      },
      "source": [
        "###Task 19###"
      ]
    },
    {
      "cell_type": "code",
      "execution_count": null,
      "metadata": {
        "id": "NPzwATfS8ygK"
      },
      "outputs": [],
      "source": [
        "N = int( input() )\n",
        "for i in range(1, N+1) :\n",
        "    for j in range(1,i+1) :\n",
        "        print(j, end = \"\")\n",
        "        if j == i :\n",
        "            print(\"\")\n",
        "        "
      ]
    },
    {
      "cell_type": "markdown",
      "metadata": {},
      "source": [
        "###Task 26### \n",
        "Finding the fibonacci series"
      ]
    },
    {
      "cell_type": "code",
      "execution_count": null,
      "metadata": {},
      "outputs": [],
      "source": [
        "n = int( input() )\n",
        "n1 = 0\n",
        "n2 = 1\n",
        "nth = 0\n",
        "while nth <= n :\n",
        "    print( nth, end = \" \" )\n",
        "    n1 = n2\n",
        "    n2 = nth\n",
        "    nth = n1+n2    "
      ]
    },
    {
      "cell_type": "markdown",
      "metadata": {},
      "source": [
        "###Task 26###\n",
        "Print binary"
      ]
    },
    {
      "cell_type": "code",
      "execution_count": null,
      "metadata": {},
      "outputs": [],
      "source": [
        "number = int(input())\n",
        "reverse = []\n",
        "while number > 0:\n",
        "    digit = number%2\n",
        "    number = number//2\n",
        "    reverse.append(digit)\n",
        "    # print( digit, end = \"\" )\n",
        "\n",
        "for i in range(-1, -len(reverse)-1, -1):\n",
        "    print(reverse[i], end=\"\")"
      ]
    }
  ],
  "metadata": {
    "colab": {
      "collapsed_sections": [],
      "include_colab_link": true,
      "name": "CSE110_lab_assignment2.ipynb",
      "provenance": []
    },
    "interpreter": {
      "hash": "3dff110607804ff61e1860eea716eb3f37868ba4a42fc6510b3542cdb82401a0"
    },
    "kernelspec": {
      "display_name": "Python 3.10.5 64-bit (windows store)",
      "language": "python",
      "name": "python3"
    },
    "language_info": {
      "codemirror_mode": {
        "name": "ipython",
        "version": 3
      },
      "file_extension": ".py",
      "mimetype": "text/x-python",
      "name": "python",
      "nbconvert_exporter": "python",
      "pygments_lexer": "ipython3",
      "version": "3.10.5"
    }
  },
  "nbformat": 4,
  "nbformat_minor": 0
}
