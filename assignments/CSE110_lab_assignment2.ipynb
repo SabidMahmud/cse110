{
  "nbformat": 4,
  "nbformat_minor": 0,
  "metadata": {
    "colab": {
      "name": "CSE110_lab_assignment2.ipynb",
      "provenance": [],
      "collapsed_sections": [],
      "include_colab_link": true
    },
    "kernelspec": {
      "name": "python3",
      "display_name": "Python 3"
    },
    "language_info": {
      "name": "python"
    }
  },
  "cells": [
    {
      "cell_type": "markdown",
      "metadata": {
        "id": "view-in-github",
        "colab_type": "text"
      },
      "source": [
        "<a href=\"https://colab.research.google.com/github/SabidMahmud/cse110/blob/main/assignments/CSE110_lab_assignment2.ipynb\" target=\"_parent\"><img src=\"https://colab.research.google.com/assets/colab-badge.svg\" alt=\"Open In Colab\"/></a>"
      ]
    },
    {
      "cell_type": "markdown",
      "source": [
        "###Task 1###"
      ],
      "metadata": {
        "id": "9ofAlmMjMbL8"
      }
    },
    {
      "cell_type": "code",
      "execution_count": null,
      "metadata": {
        "id": "XX8rVon_LoO8"
      },
      "outputs": [],
      "source": [
        "# a) 24, 18, 12, 6, 0, -6\n",
        "i = 24\n",
        "while i >= -6:\n",
        "    if i % 6 == 0 :\n",
        "        if i != -6 :\n",
        "            print(i, end=\", \")\n",
        "        else :\n",
        "            print(i)\n",
        "    i -= 1\n",
        "\n",
        "# b) -10, -5, 0, 5, 10, 15, 20\n",
        "\n",
        "count = -10\n",
        "while count <= 20:\n",
        "    if count%5 == 0 :\n",
        "        if count == 20 :\n",
        "            print(count)\n",
        "        else :\n",
        "            print( count, end = \", \")\n",
        "    count+= 1\n",
        "\n",
        "# c) 18, 27, 36, 45, 54, 63\n",
        "count = 18\n",
        "while count <= 63 :\n",
        "    if count == 63 :\n",
        "        print(count)\n",
        "    else :\n",
        "        print( count, end = \", \")\n",
        "    count+=9\n",
        "\n",
        "# 1. d) 18, -27, 36, -45, 54, -63\n",
        "num = 18\n",
        "while num <= 54 :\n",
        "    if(num == 54) :\n",
        "        print(num, end=\", \")\n",
        "        print(-num-9)\n",
        "    else :\n",
        "        print(num, end=\", \")\n",
        "        print(-num-9, end=\", \")\n",
        "    num += 18"
      ]
    },
    {
      "cell_type": "markdown",
      "source": [
        "###Task 2###\n"
      ],
      "metadata": {
        "id": "KCkuPIxciT8F"
      }
    },
    {
      "cell_type": "code",
      "source": [
        "name = input(\"What is the name of your favourite car? : \")\n",
        "number = int(input(\"Enter a number : \"))\n",
        "for i in range(number) :\n",
        "    print(name)"
      ],
      "metadata": {
        "id": "dGB-IthTiWTX"
      },
      "execution_count": null,
      "outputs": []
    },
    {
      "cell_type": "markdown",
      "source": [
        "###Task 3###\n"
      ],
      "metadata": {
        "id": "Ir9yX475j_P3"
      }
    },
    {
      "cell_type": "code",
      "source": [
        "count = 0 \n",
        "sum = 0\n",
        "while count <= 600 :\n",
        "    if count % 7 == 0 and count % 9 == 0 :\n",
        "        sum += count\n",
        "    count+=1\n",
        "\n",
        "print(sum)"
      ],
      "metadata": {
        "id": "yFL8HnWrkC10"
      },
      "execution_count": null,
      "outputs": []
    },
    {
      "cell_type": "markdown",
      "source": [
        "###Task 4###"
      ],
      "metadata": {
        "id": "e7ZeL6lNk2qG"
      }
    },
    {
      "cell_type": "code",
      "source": [
        "result = 0 \n",
        "for i in range(1, 600+1) :\n",
        "    if i % 7 == 0 or i % 9 == 0 : \n",
        "        if i % 7 == 0 and i % 9 == 0 :\n",
        "            continue\n",
        "        else:\n",
        "            result += i\n",
        "    else :\n",
        "        continue\n",
        "\n",
        "print( result )"
      ],
      "metadata": {
        "id": "ldFc7UBa_u5X"
      },
      "execution_count": null,
      "outputs": []
    },
    {
      "cell_type": "markdown",
      "source": [
        "###Task 5###\n"
      ],
      "metadata": {
        "id": "kKqfuI0a5-PL"
      }
    },
    {
      "cell_type": "code",
      "source": [
        "for i in range(10, 50+1):\n",
        "    if i%2 != 0 :\n",
        "        print( i, end=\" \")"
      ],
      "metadata": {
        "id": "lznsQNY_6Bli"
      },
      "execution_count": null,
      "outputs": []
    },
    {
      "cell_type": "markdown",
      "source": [
        "###Task 6###"
      ],
      "metadata": {
        "id": "bVmtKOFH6fqs"
      }
    },
    {
      "cell_type": "code",
      "source": [
        "import math\n",
        "n = int( input(\"n = \"))\n",
        "y = 0\n",
        "for i in range(1, n+1) :\n",
        "    if i%2 == 0 :\n",
        "        y -= pow(i, 2)\n",
        "    else :\n",
        "        y += pow(i, 2)\n",
        "\n",
        "print( y )"
      ],
      "metadata": {
        "id": "IpR5tnce6kNi"
      },
      "execution_count": null,
      "outputs": []
    },
    {
      "cell_type": "markdown",
      "source": [
        "###Task 7###\n"
      ],
      "metadata": {
        "id": "D-tjtimv9Kbd"
      }
    },
    {
      "cell_type": "code",
      "source": [
        "sum = 0\n",
        "count = 0\n",
        "for i in range(10):\n",
        "    n = int(input())\n",
        "    if n%2 != 0 :\n",
        "        sum+=n\n",
        "        count+=1\n",
        "\n",
        "average = sum/count\n",
        "print(\"The total of the odd numbers is\", sum, \"and their average is\", average)"
      ],
      "metadata": {
        "id": "djELtqMb9OPt"
      },
      "execution_count": null,
      "outputs": []
    },
    {
      "cell_type": "markdown",
      "source": [
        "###Task 8###"
      ],
      "metadata": {
        "id": "ujpOABcUAhHA"
      }
    },
    {
      "cell_type": "code",
      "source": [
        "n = int(input(\"Enter the value of N : \"))\n",
        "sum = 0\n",
        "for i in range(n+1) :\n",
        "    if i % 7 == 0 :\n",
        "        sum += i\n",
        "\n",
        "print( sum )"
      ],
      "metadata": {
        "id": "LbkaNeS-AkUE"
      },
      "execution_count": null,
      "outputs": []
    },
    {
      "cell_type": "markdown",
      "source": [
        "###Task 9###"
      ],
      "metadata": {
        "id": "6RhGKUipCidv"
      }
    },
    {
      "cell_type": "code",
      "source": [
        "sum1 = 0\n",
        "sum2 = 0\n",
        "for i in range(5) :\n",
        "    n = int(input())\n",
        "    sum = sum + n\n",
        "    print( sum )"
      ],
      "metadata": {
        "id": "LGxE_dcFCkip"
      },
      "execution_count": null,
      "outputs": []
    },
    {
      "cell_type": "markdown",
      "source": [
        "###Task 10###"
      ],
      "metadata": {
        "id": "8moo6jXKERiJ"
      }
    },
    {
      "cell_type": "code",
      "source": [
        "number = int(input())\n",
        "while True :\n",
        "    d = number % 10\n",
        "    number //= 10\n",
        "    if number == 0 :\n",
        "        print(d)\n",
        "        break\n",
        "    else :\n",
        "        print(d, end = \", \")"
      ],
      "metadata": {
        "id": "Rj_ekozdET_y"
      },
      "execution_count": null,
      "outputs": []
    },
    {
      "cell_type": "markdown",
      "source": [
        "###Task 11###"
      ],
      "metadata": {
        "id": "F_EaX-ZjH6GH"
      }
    },
    {
      "cell_type": "code",
      "source": [
        "n = int( input(\"N : \"))\n",
        "count = 0\n",
        "while True :\n",
        "    n //= 10\n",
        "    count += 1\n",
        "    if n == 0 :\n",
        "        break\n",
        "\n",
        "print( count )"
      ],
      "metadata": {
        "id": "M4v9Fy3QH8aV"
      },
      "execution_count": null,
      "outputs": []
    },
    {
      "cell_type": "markdown",
      "source": [
        "###Task 12###"
      ],
      "metadata": {
        "id": "I3LWG7G4IdqR"
      }
    },
    {
      "cell_type": "code",
      "source": [
        "import math \n",
        "n = int( input(\"N : \"))\n",
        "number = n\n",
        "count = 0\n",
        "while True :\n",
        "    n //= 10\n",
        "    count += 1\n",
        "    if n == 0 :\n",
        "        break\n",
        "\n",
        "while True :\n",
        "    count = count - 1\n",
        "    digit = number // pow(10, count)\n",
        "    number %= pow(10, count)\n",
        "    if number != 0 :\n",
        "        print( digit, end = \", \")\n",
        "    else :\n",
        "        print( digit, end = \"\")\n",
        "        break"
      ],
      "metadata": {
        "id": "8aQ9Q5IaIhNr"
      },
      "execution_count": null,
      "outputs": []
    },
    {
      "cell_type": "markdown",
      "source": [
        "###Task 13 ###\n"
      ],
      "metadata": {
        "id": "hq9R95Hu5cVe"
      }
    },
    {
      "cell_type": "code",
      "source": [
        "num = int( input(\"Number : \") )\n",
        "count = 0\n",
        "for i in range( 1, int(num/2)+1 ) :\n",
        "    if num % i == 0 :\n",
        "        print(i, end = \", \")\n",
        "        count+=1 \n",
        "\n",
        "print( num )\n",
        "print( count )"
      ],
      "metadata": {
        "id": "EGrcCKjG5fq2"
      },
      "execution_count": null,
      "outputs": []
    },
    {
      "cell_type": "markdown",
      "source": [
        "###Task 14###"
      ],
      "metadata": {
        "id": "K6vljQVryPBJ"
      }
    },
    {
      "cell_type": "code",
      "source": [
        "number = int( input(\"Enter Number : \") )\n",
        "sum = 0\n",
        "for i in range( 1, int(number/2)+1 ) :\n",
        "    if number % i == 0 :\n",
        "        sum += i\n",
        "\n",
        "if sum == number :\n",
        "    print( number, \"is a perfect number\" )\n",
        "else :\n",
        "    print( number, \"is not a perfect number\")"
      ],
      "metadata": {
        "id": "1NQAm3k2yOZg"
      },
      "execution_count": null,
      "outputs": []
    },
    {
      "cell_type": "markdown",
      "source": [
        "###Task 15###"
      ],
      "metadata": {
        "id": "5Ss5Opr21xV8"
      }
    },
    {
      "cell_type": "code",
      "source": [
        "number = int(input(\"Number : \"))\n",
        "prime_num = 0\n",
        "for i in range(2, int(number/2)+1) :\n",
        "    if number%i != 0 :\n",
        "        prime_num = 1\n",
        "    # else :\n",
        "    #     prime_num = 1\n",
        "\n",
        "if prime_num == 1 :\n",
        "    print(number, \"is a prime number\")\n",
        "else :\n",
        "    print( number, \"is not a prime number\")"
      ],
      "metadata": {
        "id": "c_jHbbd6113s"
      },
      "execution_count": null,
      "outputs": []
    },
    {
      "cell_type": "markdown",
      "source": [
        "###Task 16###"
      ],
      "metadata": {
        "id": "k4qufaJ_-uDr"
      }
    },
    {
      "cell_type": "code",
      "source": [
        "i = n = int(input())\n",
        "max = min = 0\n",
        "sum = 0\n",
        "while i > 0 :\n",
        "    i -= 1\n",
        "    number = int( input() )\n",
        "    if number >= max :\n",
        "        max = number\n",
        "    \n",
        "    if number <= min :\n",
        "        min = number\n",
        "    \n",
        "    sum = sum + number\n",
        "\n",
        "print( \"Maximum %d\\nMinimum %d\\nAverage is %g\" %(max, min, sum/n))"
      ],
      "metadata": {
        "id": "XeMG6frx-w26"
      },
      "execution_count": null,
      "outputs": []
    },
    {
      "cell_type": "markdown",
      "source": [
        "###Task 17###\n"
      ],
      "metadata": {
        "id": "OiSFu4eH5-_Z"
      }
    },
    {
      "cell_type": "code",
      "source": [
        "number = int( input( ) )\n",
        "for i in range(number) :\n",
        "    for j in range(number) :\n",
        "        if j == number-1 :\n",
        "            print(\"+\")\n",
        "        else :\n",
        "            print(\"+\", end = \"\")"
      ],
      "metadata": {
        "id": "4W2g4GqD6JMO"
      },
      "execution_count": null,
      "outputs": []
    },
    {
      "cell_type": "markdown",
      "source": [
        "###Task 18###"
      ],
      "metadata": {
        "id": "lckAsJqp7ol-"
      }
    },
    {
      "cell_type": "code",
      "source": [
        "line = int( input(\"Lines: \") )\n",
        "column = int( input(\"Columns: \") )\n",
        "for i in range( 1, line+1):\n",
        "    for j in range(1, column+1) :\n",
        "        if j == column :\n",
        "            print(j)\n",
        "        else :\n",
        "            print( j, end = \"\" )"
      ],
      "metadata": {
        "id": "AzQfsss-72kv"
      },
      "execution_count": null,
      "outputs": []
    },
    {
      "cell_type": "markdown",
      "source": [
        "###Task 19###"
      ],
      "metadata": {
        "id": "REEIQkn88vT-"
      }
    },
    {
      "cell_type": "code",
      "source": [
        "N = int( input() )\n",
        "for i in range(1, N+1) :\n",
        "    for j in range(1,i+1) :\n",
        "        print(j, end = \"\")\n",
        "        if j == i :\n",
        "            print(\"\")\n",
        "        "
      ],
      "metadata": {
        "id": "NPzwATfS8ygK"
      },
      "execution_count": null,
      "outputs": []
    }
  ]
}