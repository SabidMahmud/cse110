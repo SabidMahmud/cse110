{
  "nbformat": 4,
  "nbformat_minor": 0,
  "metadata": {
    "colab": {
      "name": "CSE110_lab_assignment2.ipynb",
      "provenance": [],
      "collapsed_sections": [],
      "authorship_tag": "ABX9TyMRnDdnmJ99GimJAPyI++we",
      "include_colab_link": true
    },
    "kernelspec": {
      "name": "python3",
      "display_name": "Python 3"
    },
    "language_info": {
      "name": "python"
    }
  },
  "cells": [
    {
      "cell_type": "markdown",
      "metadata": {
        "id": "view-in-github",
        "colab_type": "text"
      },
      "source": [
        "<a href=\"https://colab.research.google.com/github/SabidMahmud/cse110/blob/main/assignments/CSE110_lab_assignment2.ipynb\" target=\"_parent\"><img src=\"https://colab.research.google.com/assets/colab-badge.svg\" alt=\"Open In Colab\"/></a>"
      ]
    },
    {
      "cell_type": "markdown",
      "source": [
        "###Task 1###"
      ],
      "metadata": {
        "id": "9ofAlmMjMbL8"
      }
    },
    {
      "cell_type": "code",
      "execution_count": 2,
      "metadata": {
        "colab": {
          "base_uri": "https://localhost:8080/"
        },
        "id": "XX8rVon_LoO8",
        "outputId": "26285ae0-f1ff-4bc4-be94-bbc689adecc4"
      },
      "outputs": [
        {
          "output_type": "stream",
          "name": "stdout",
          "text": [
            "24, 18, 12, 6, 0, -6\n",
            "-10, -5, 0, 5, 10, 15, 20\n",
            "18, 27, 36, 45, 54, 63\n",
            "18, -27, 36, -45, 54, -63\n"
          ]
        }
      ],
      "source": [
        "# a) 24, 18, 12, 6, 0, -6\n",
        "i = 24\n",
        "while i >= -6:\n",
        "    if i % 6 == 0 :\n",
        "        if i != -6 :\n",
        "            print(i, end=\", \")\n",
        "        else :\n",
        "            print(i)\n",
        "    i -= 1\n",
        "\n",
        "# b) -10, -5, 0, 5, 10, 15, 20\n",
        "\n",
        "count = -10\n",
        "while count <= 20:\n",
        "    if count%5 == 0 :\n",
        "        if count == 20 :\n",
        "            print(count)\n",
        "        else :\n",
        "            print( count, end = \", \")\n",
        "    count+= 1\n",
        "\n",
        "# c) 18, 27, 36, 45, 54, 63\n",
        "count = 18\n",
        "while count <= 63 :\n",
        "    if count == 63 :\n",
        "        print(count)\n",
        "    else :\n",
        "        print( count, end = \", \")\n",
        "    count+=9\n",
        "\n",
        "# d) 18, -27, 36, -45, 54, -63\n",
        "count = 18\n",
        "while count <= 54 :\n",
        "    if(count == 54) :\n",
        "        print(count, end=\", \")\n",
        "        print(-count-9)\n",
        "    else :\n",
        "        print(count, end=\", \")\n",
        "        print(-count-9, end=\", \")\n",
        "    count += 18"
      ]
    },
    {
      "cell_type": "markdown",
      "source": [
        "###Task 2###\n"
      ],
      "metadata": {
        "id": "KCkuPIxciT8F"
      }
    },
    {
      "cell_type": "code",
      "source": [
        "name = input(\"What is the name of your favourite car? : \")\n",
        "number = int(input(\"Enter a number : \"))\n",
        "for i in range(number) :\n",
        "    print(name)"
      ],
      "metadata": {
        "colab": {
          "base_uri": "https://localhost:8080/"
        },
        "id": "dGB-IthTiWTX",
        "outputId": "4c17c8f8-9977-43fa-bfdf-5c8b262d0f63"
      },
      "execution_count": 5,
      "outputs": [
        {
          "output_type": "stream",
          "name": "stdout",
          "text": [
            "What is the name of your favourite car? : Toyota\n",
            "Enter a number : 10\n",
            "Toyota\n",
            "Toyota\n",
            "Toyota\n",
            "Toyota\n",
            "Toyota\n",
            "Toyota\n",
            "Toyota\n",
            "Toyota\n",
            "Toyota\n",
            "Toyota\n"
          ]
        }
      ]
    },
    {
      "cell_type": "markdown",
      "source": [
        "###Task 4###\n"
      ],
      "metadata": {
        "id": "Ir9yX475j_P3"
      }
    },
    {
      "cell_type": "code",
      "source": [
        "count = 0 \n",
        "sum = 0\n",
        "while count <= 600 :\n",
        "    if count % 7 == 0 and count % 9 == 0 :\n",
        "        sum += count\n",
        "    count+=1\n",
        "print(sum)"
      ],
      "metadata": {
        "colab": {
          "base_uri": "https://localhost:8080/"
        },
        "id": "yFL8HnWrkC10",
        "outputId": "28e56427-28cf-456c-b43a-e86cc993efc6"
      },
      "execution_count": 7,
      "outputs": [
        {
          "output_type": "stream",
          "name": "stdout",
          "text": [
            "2835\n"
          ]
        }
      ]
    },
    {
      "cell_type": "markdown",
      "source": [
        "###Task 5###"
      ],
      "metadata": {
        "id": "e7ZeL6lNk2qG"
      }
    },
    {
      "cell_type": "code",
      "source": [
        "count = 0\n",
        "result = 0 \n",
        "while count <= 600 :\n",
        "    if count % 7 == 0 or count % 9 == 0 : \n",
        "        if count%7==0 and count%9 == 0 :\n",
        "            continue\n",
        "        else:\n",
        "            result += count\n",
        "    else :\n",
        "        continue\n",
        "    count += 1\n",
        "\n",
        "print( result )"
      ],
      "metadata": {
        "id": "wq96ONDhk42p"
      },
      "execution_count": null,
      "outputs": []
    },
    {
      "cell_type": "code",
      "source": [
        "result = 0 \n",
        "for i in range(1, 600+1) :\n",
        "    if i % 7 == 0 or i % 9 == 0 : \n",
        "        if i % 7 == 0 and i % 9 == 0 :\n",
        "            continue\n",
        "        else:\n",
        "            result += i\n",
        "    else :\n",
        "        continue\n",
        "\n",
        "print( result )"
      ],
      "metadata": {
        "colab": {
          "base_uri": "https://localhost:8080/"
        },
        "id": "ldFc7UBa_u5X",
        "outputId": "64cf84f5-259d-47bb-b273-ffa4bded1d18"
      },
      "execution_count": 10,
      "outputs": [
        {
          "output_type": "stream",
          "name": "stdout",
          "text": [
            "39814\n"
          ]
        }
      ]
    },
    {
      "cell_type": "markdown",
      "source": [
        "###Task 6###\n"
      ],
      "metadata": {
        "id": "kKqfuI0a5-PL"
      }
    },
    {
      "cell_type": "code",
      "source": [
        "for i in range(10, 50+1):\n",
        "    if i%2 != 0 :\n",
        "        print( i, end=\" \")"
      ],
      "metadata": {
        "colab": {
          "base_uri": "https://localhost:8080/"
        },
        "id": "lznsQNY_6Bli",
        "outputId": "2d319a80-e4a7-4b17-fd89-2c56cd27f810"
      },
      "execution_count": 11,
      "outputs": [
        {
          "output_type": "stream",
          "name": "stdout",
          "text": [
            "11 13 15 17 19 21 23 25 27 29 31 33 35 37 39 41 43 45 47 49 "
          ]
        }
      ]
    },
    {
      "cell_type": "markdown",
      "source": [
        "###Task 7###"
      ],
      "metadata": {
        "id": "bVmtKOFH6fqs"
      }
    },
    {
      "cell_type": "code",
      "source": [
        "import math\n",
        "n = int( input(\"n = \"))\n",
        "y = 0\n",
        "for i in range(1, n+1) :\n",
        "    if i%2 == 0 :\n",
        "        y -= pow(i, 2)\n",
        "    else :\n",
        "        y += pow(i, 2)\n",
        "\n",
        "print( y )"
      ],
      "metadata": {
        "colab": {
          "base_uri": "https://localhost:8080/"
        },
        "id": "IpR5tnce6kNi",
        "outputId": "e91655a2-7e41-46d1-b5a1-9ad58f3d9bc1"
      },
      "execution_count": 3,
      "outputs": [
        {
          "output_type": "stream",
          "name": "stdout",
          "text": [
            "n = 20\n",
            "-210\n"
          ]
        }
      ]
    },
    {
      "cell_type": "markdown",
      "source": [
        "###Task 8###\n"
      ],
      "metadata": {
        "id": "D-tjtimv9Kbd"
      }
    },
    {
      "cell_type": "code",
      "source": [
        "sum = 0\n",
        "count = 0\n",
        "for i in range(10):\n",
        "    n = int(input())\n",
        "    if n%2 != 0 :\n",
        "        sum+=n\n",
        "        count+=1\n",
        "\n",
        "average = sum/count\n",
        "print(\"The total of the odd numbers is\", sum, \"and their average is\", average)"
      ],
      "metadata": {
        "colab": {
          "base_uri": "https://localhost:8080/"
        },
        "id": "djELtqMb9OPt",
        "outputId": "9bf54901-c546-43ad-ad50-251cbbbea8f7"
      },
      "execution_count": 9,
      "outputs": [
        {
          "output_type": "stream",
          "name": "stdout",
          "text": [
            "1\n",
            "2\n",
            "3\n",
            "4\n",
            "5\n",
            "6\n",
            "7\n",
            "8\n",
            "9\n",
            "10\n",
            "The total of the odd numbers is 25 and their average is 5.0\n"
          ]
        }
      ]
    },
    {
      "cell_type": "markdown",
      "source": [
        "###Task 9###"
      ],
      "metadata": {
        "id": "ujpOABcUAhHA"
      }
    },
    {
      "cell_type": "code",
      "source": [
        "n = int(input(\"Enter the value of N : \"))\n",
        "sum = 0\n",
        "for i in range(n+1) :\n",
        "    if i % 7 == 0 :\n",
        "        sum += i\n",
        "\n",
        "print( sum )"
      ],
      "metadata": {
        "colab": {
          "base_uri": "https://localhost:8080/"
        },
        "id": "LbkaNeS-AkUE",
        "outputId": "445d57f2-2f97-4f20-8fed-6930afb2fee0"
      },
      "execution_count": 12,
      "outputs": [
        {
          "output_type": "stream",
          "name": "stdout",
          "text": [
            "Enter the value of N : 75\n",
            "385\n"
          ]
        }
      ]
    }
  ]
}