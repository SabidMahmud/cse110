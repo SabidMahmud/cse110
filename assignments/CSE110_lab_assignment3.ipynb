{
  "nbformat": 4,
  "nbformat_minor": 0,
  "metadata": {
    "colab": {
      "name": "CSE110_lab_assignment3.ipynb",
      "provenance": [],
      "collapsed_sections": [],
      "authorship_tag": "ABX9TyMk31AIWp6r1B/Edegh9Ees",
      "include_colab_link": true
    },
    "kernelspec": {
      "name": "python3",
      "display_name": "Python 3"
    },
    "language_info": {
      "name": "python"
    }
  },
  "cells": [
    {
      "cell_type": "markdown",
      "metadata": {
        "id": "view-in-github",
        "colab_type": "text"
      },
      "source": [
        "<a href=\"https://colab.research.google.com/github/SabidMahmud/cse110/blob/main/assignments/CSE110_lab_assignment3.ipynb\" target=\"_parent\"><img src=\"https://colab.research.google.com/assets/colab-badge.svg\" alt=\"Open In Colab\"/></a>"
      ]
    },
    {
      "cell_type": "markdown",
      "source": [
        "###Task 1###\n",
        "Python program that takes a String as an input from the user and prints that String in\n",
        "reverse order. ***You cannot use the built-in reverse() function for this task***."
      ],
      "metadata": {
        "id": "3Mnpm4nrs2_-"
      }
    },
    {
      "cell_type": "code",
      "source": [
        "string = input()\n",
        "print( string[::-1])"
      ],
      "metadata": {
        "colab": {
          "base_uri": "https://localhost:8080/"
        },
        "id": "Xl0GtReXs_FX",
        "outputId": "bbf21e4a-eb9d-46b2-9c09-877464ee7475"
      },
      "execution_count": null,
      "outputs": [
        {
          "output_type": "stream",
          "name": "stdout",
          "text": [
            "CSE110\n",
            "011ESC\n"
          ]
        }
      ]
    },
    {
      "cell_type": "markdown",
      "source": [
        "###TASK 2###\n"
      ],
      "metadata": {
        "id": "hq819ziNtYmM"
      }
    },
    {
      "cell_type": "code",
      "source": [
        "string = input(\"Enter the string: \")\n",
        "index = int(input(\"Enter the index: \"))\n",
        "str1 = string[index: : -1]\n",
        "str2 = string[index+1:]\n",
        "print( str1 + str2 )"
      ],
      "metadata": {
        "colab": {
          "base_uri": "https://localhost:8080/"
        },
        "id": "1NT8UNTStn1n",
        "outputId": "b179c5e5-f9ac-4cf6-cb22-38ab0a0e24f1"
      },
      "execution_count": null,
      "outputs": [
        {
          "output_type": "stream",
          "name": "stdout",
          "text": [
            "Enter the string: BRACUCSE\n",
            "Enter the index: 4\n",
            "UCARBUCSE\n"
          ]
        }
      ]
    },
    {
      "cell_type": "markdown",
      "source": [
        "###TASK 3###"
      ],
      "metadata": {
        "id": "1pTmUiMxvPH5"
      }
    },
    {
      "cell_type": "code",
      "source": [
        "string = input()\n",
        "binary = True\n",
        "for i in string:\n",
        "    if i != \"0\" and i != \"1\" :\n",
        "        binary = False\n",
        "        break\n",
        "if binary :\n",
        "    print(\"Binary Number\")\n",
        "else :\n",
        "    print( \"Not a Binary Number\")"
      ],
      "metadata": {
        "colab": {
          "base_uri": "https://localhost:8080/"
        },
        "id": "Dip2reyhvSpT",
        "outputId": "dc52f2f3-b79f-4a99-8382-423b52d6c5a6"
      },
      "execution_count": null,
      "outputs": [
        {
          "output_type": "stream",
          "name": "stdout",
          "text": [
            "10127490111\n",
            "Not a Binary Number\n"
          ]
        }
      ]
    },
    {
      "cell_type": "markdown",
      "source": [
        "###TASK 4###"
      ],
      "metadata": {
        "id": "co382bqowwhw"
      }
    },
    {
      "cell_type": "code",
      "source": [
        "# task 4\n",
        "word = input()\n",
        "length = len(word)\n",
        "if word[-2:] == \"er\":\n",
        "        print( word[:-2]+\"est\")\n",
        "else:\n",
        "    if length < 4 or word[-3:] == \"est\" :\n",
        "            print( word )\n",
        "    elif length > 3:\n",
        "            print( word + \"er\")"
      ],
      "metadata": {
        "colab": {
          "base_uri": "https://localhost:8080/"
        },
        "id": "Ft4mazzWD8pu",
        "outputId": "e98e4f4d-3e49-46ce-b608-c569197dd727"
      },
      "execution_count": null,
      "outputs": [
        {
          "output_type": "stream",
          "name": "stdout",
          "text": [
            "stronger\n",
            "strongest\n"
          ]
        }
      ]
    },
    {
      "cell_type": "markdown",
      "source": [
        "###TASK 5###\n"
      ],
      "metadata": {
        "id": "x_FeUe6l2b9Y"
      }
    },
    {
      "cell_type": "code",
      "source": [
        "word1 = input()\n",
        "for i in range( len(word1) ) :\n",
        "    print( word1[:i+1] )"
      ],
      "metadata": {
        "colab": {
          "base_uri": "https://localhost:8080/"
        },
        "id": "MmRSpcCJ2eET",
        "outputId": "2bbb9c7f-c0a7-42c6-8d6c-cdecf4c5225e"
      },
      "execution_count": null,
      "outputs": [
        {
          "output_type": "stream",
          "name": "stdout",
          "text": [
            "BANGLA\n",
            "B\n",
            "BA\n",
            "BAN\n",
            "BANG\n",
            "BANGL\n",
            "BANGLA\n"
          ]
        }
      ]
    },
    {
      "cell_type": "markdown",
      "source": [
        "###TASK 6###"
      ],
      "metadata": {
        "id": "Qlf7Ps4Z3Lsr"
      }
    },
    {
      "cell_type": "code",
      "source": [
        "string = input()\n",
        "for i in string:\n",
        "    print( i, \":\", ord(i))"
      ],
      "metadata": {
        "id": "4_CYeV0S3SX_"
      },
      "execution_count": null,
      "outputs": []
    },
    {
      "cell_type": "markdown",
      "source": [
        "###Task 7###"
      ],
      "metadata": {
        "id": "QutqxrSm4uEw"
      }
    },
    {
      "cell_type": "code",
      "source": [
        "characters = input()\n",
        "for i in characters :\n",
        "    if ord(i) == 122 :\n",
        "        print( chr(97), end = \"\" )\n",
        "    else :\n",
        "        print( chr(ord(i)+1 ), end = \"\" )"
      ],
      "metadata": {
        "colab": {
          "base_uri": "https://localhost:8080/"
        },
        "id": "u-dE_tGX4w5j",
        "outputId": "7eb1ff3a-07e9-474e-a378-74a413346f56"
      },
      "execution_count": null,
      "outputs": [
        {
          "output_type": "stream",
          "name": "stdout",
          "text": [
            "xyzabc\n",
            "yzabcd"
          ]
        }
      ]
    },
    {
      "cell_type": "markdown",
      "source": [
        "###TASK 8###\n"
      ],
      "metadata": {
        "id": "ku5-v60zGJG6"
      }
    },
    {
      "cell_type": "code",
      "source": [
        "string = input()\n",
        "new_str = \"\"\n",
        "for i in range( len(string) ):\n",
        "    if i%2 != 0 :\n",
        "        new_str += string[i]\n",
        "# print( new_str )\n",
        "for c in new_str :\n",
        "    if ord(c) >= 97 :\n",
        "        print( chr( ord(c)-32 ), end = \"\" )\n",
        "    else:\n",
        "        print( c, end= \"\" )"
      ],
      "metadata": {
        "colab": {
          "base_uri": "https://localhost:8080/"
        },
        "id": "bSIzGPY-GLzX",
        "outputId": "fc2259fb-5a50-40b7-d1e4-17bf722f18d9"
      },
      "execution_count": null,
      "outputs": [
        {
          "output_type": "stream",
          "name": "stdout",
          "text": [
            "String\n",
            "TIG"
          ]
        }
      ]
    },
    {
      "cell_type": "markdown",
      "source": [
        "###TASK 9###"
      ],
      "metadata": {
        "id": "frVq01fNI1op"
      }
    },
    {
      "cell_type": "code",
      "source": [
        "string = input()\n",
        "new_st = string[0]\n",
        "for i in range(1, len(string)):\n",
        "    if string[i] != string[i-1] :\n",
        "        new_st += string[i]\n",
        "    else :\n",
        "        pass\n",
        "\n",
        "print( new_st )"
      ],
      "metadata": {
        "colab": {
          "base_uri": "https://localhost:8080/"
        },
        "id": "ZMww58XxI6Ye",
        "outputId": "695a3c32-47a2-464d-ce6f-e91dc5d9bde0"
      },
      "execution_count": null,
      "outputs": [
        {
          "output_type": "stream",
          "name": "stdout",
          "text": [
            "Jupyter Notebook is better. Case sensitivity check AAaaaAaaAAAa.\n",
            "Jupyter Notebok is beter. Case sensitivity check AaAaAa.\n"
          ]
        }
      ]
    },
    {
      "cell_type": "markdown",
      "source": [
        "###Task 10###"
      ],
      "metadata": {
        "id": "ioQYgIB7zIQ-"
      }
    },
    {
      "cell_type": "code",
      "source": [
        "string1, string2=input().split(\", \")\n",
        "length=0\n",
        "new_string = ''\n",
        "if len(string1)<len(string2):\n",
        "    length = len(string1)\n",
        "    new_string =string2[ len(string1) : ]\n",
        "else:\n",
        "    length = len( string2 )\n",
        "    new_string = string1[ len(string2) : ]\n",
        "    \n",
        "out = ''    \n",
        "for i in range(length):\n",
        "    out+=string1[i]\n",
        "    out+=string2[i]\n",
        "out+=new_string\n",
        "\n",
        "print(out)"
      ],
      "metadata": {
        "colab": {
          "base_uri": "https://localhost:8080/"
        },
        "id": "gK5KkvK4zLjh",
        "outputId": "090d7370-79f7-48c1-e945-e02991f5cabe"
      },
      "execution_count": null,
      "outputs": [
        {
          "output_type": "stream",
          "name": "stdout",
          "text": [
            "ABCDENDFGH, ijkl\n",
            "AiBjCkDlENDFGH\n"
          ]
        }
      ]
    },
    {
      "cell_type": "code",
      "source": [
        "#10\n"
      ],
      "metadata": {
        "id": "c6VbuoyvcAhM"
      },
      "execution_count": null,
      "outputs": []
    }
  ]
}