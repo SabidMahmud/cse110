{
  "cells": [
    {
      "cell_type": "markdown",
      "metadata": {
        "id": "view-in-github",
        "colab_type": "text"
      },
      "source": [
        "<a href=\"https://colab.research.google.com/github/SabidMahmud/cse110/blob/main/assignments/assignment1.ipynb\" target=\"_parent\"><img src=\"https://colab.research.google.com/assets/colab-badge.svg\" alt=\"Open In Colab\"/></a>"
      ]
    },
    {
      "cell_type": "markdown",
      "source": [
        "Task 3"
      ],
      "metadata": {
        "id": "9WsxOgrfmrFv"
      }
    },
    {
      "cell_type": "code",
      "source": [
        "first = int(input())\n",
        "second = int(input())\n",
        "if first > second :\n",
        "  print(\"First is greater\")\n",
        "elif second > first :\n",
        "  print(\"Second is greater\")\n",
        "else :\n",
        "  print(\"The numbers are equal\")"
      ],
      "metadata": {
        "colab": {
          "base_uri": "https://localhost:8080/"
        },
        "id": "Cba2_QB0mylv",
        "outputId": "2b3cab16-ea3c-4ba2-da7e-334ebf2ab11e"
      },
      "execution_count": null,
      "outputs": [
        {
          "output_type": "stream",
          "name": "stdout",
          "text": [
            "1\n",
            "1\n",
            "The numbers are equal\n"
          ]
        }
      ]
    },
    {
      "cell_type": "markdown",
      "source": [
        "###Test 4###"
      ],
      "metadata": {
        "id": "lnSWspV0nuot"
      }
    },
    {
      "cell_type": "code",
      "source": [
        "num1 = int(input())\n",
        "num2 = int(input())\n",
        "if num1 < num2 :\n",
        "  #num1, num2 = num2, num1\n",
        "  sub = num2 - num1\n",
        "  print(sub)\n",
        "else :\n",
        "  sub = num1 - num2\n",
        "  print(sub)"
      ],
      "metadata": {
        "colab": {
          "base_uri": "https://localhost:8080/"
        },
        "id": "o_0fqI3fn1eW",
        "outputId": "32915b3e-b7cc-4174-8e9e-07172a05abb4"
      },
      "execution_count": null,
      "outputs": [
        {
          "output_type": "stream",
          "name": "stdout",
          "text": [
            "4\n",
            "10\n",
            "6\n"
          ]
        }
      ]
    },
    {
      "cell_type": "markdown",
      "source": [
        "###Task 5###\n",
        "Python code of a program that reads a number, and prints \"The number is even\" or \"The\n",
        "number is odd\", depending on whether the number is even or odd."
      ],
      "metadata": {
        "id": "AfZC5g37pTc3"
      }
    },
    {
      "cell_type": "code",
      "source": [
        "number = int(input())\n",
        "if number%2 == 0 :\n",
        "  print(\"The number is even\")\n",
        "else :\n",
        "  print(\"The number is odd\")"
      ],
      "metadata": {
        "colab": {
          "base_uri": "https://localhost:8080/"
        },
        "id": "604Oa9t7pajH",
        "outputId": "bad46b0f-fa24-4b39-be13-6e3ebec7faf0"
      },
      "execution_count": null,
      "outputs": [
        {
          "output_type": "stream",
          "name": "stdout",
          "text": [
            "7\n",
            "The number is odd\n"
          ]
        }
      ]
    },
    {
      "cell_type": "markdown",
      "source": [
        "###Task 6###\n",
        "Python code of a program that reads an integer as input from the user, and prints the\n",
        "integer if it is a multiple of 2 OR 5 and prints \"Not a multiple of 2 OR 5\" otherwise."
      ],
      "metadata": {
        "id": "ykdC8KqPqeJv"
      }
    },
    {
      "cell_type": "code",
      "source": [
        "num = int(input())\n",
        "if num%2 == 0 or num%5 == 0 :\n",
        "    print(num)\n",
        "else :\n",
        "    print(\"Not a multiple of 2 OR 5\")"
      ],
      "metadata": {
        "colab": {
          "base_uri": "https://localhost:8080/"
        },
        "id": "wRVmXCGnqoBP",
        "outputId": "a955a8f4-293a-43d6-f090-ddff7c8cf123"
      },
      "execution_count": null,
      "outputs": [
        {
          "output_type": "stream",
          "name": "stdout",
          "text": [
            "3\n",
            "Not a multiple of 2 OR 5\n"
          ]
        }
      ]
    },
    {
      "cell_type": "markdown",
      "source": [
        "###Task 7###\n",
        "Python code of a program that reads an integer, and prints the integer it is a multiple of\n",
        "either 2 or 5 but not both. If the number is a multiple of 2 and 5 both, then print \"Multiple of 2\n",
        "and 5 both\". For all other numbers, the program prints \"Not a multiple we want\".  \n",
        "\n",
        "For example, 2, 4, 5, 6, 8, 12, 14, 15, 16, 18, 22 ... i.e. this includes multiples of 2 only and\n",
        "multiples of 5 only, NOT multiples of 2 and 5 both or other numbers."
      ],
      "metadata": {
        "id": "MjOlkBZosAL6"
      }
    },
    {
      "cell_type": "code",
      "source": [
        "num = int(input())\n",
        "if num%2 == 0 and num%5 == 0 :\n",
        "    print(\"Multiple of 2 and 5 both\")\n",
        "elif num%2 == 0 or num%5 == 0 :\n",
        "    print(num)\n",
        "else :\n",
        "    print(\"Not a multiple we want\")"
      ],
      "metadata": {
        "id": "dwezPKk6svne"
      },
      "execution_count": null,
      "outputs": []
    },
    {
      "cell_type": "markdown",
      "source": [
        "###Task 8###\n",
        "Python code of a program that reads an integer, and prints the integer if it is a multiple\n",
        "of 2 AND 5 and prints \"Not multiple of 2 and 5 both\" otherwise.  \n",
        "\n",
        "For example, 10, 20, 30, 40, 50 ... i.e. this only includes numbers which are multiples of both 2\n",
        "and 5."
      ],
      "metadata": {
        "id": "UZ088qNQtvRc"
      }
    },
    {
      "cell_type": "code",
      "source": [
        "num = int(input())\n",
        "if num%2 == 0 and num%5 == 0 :\n",
        "    print(num)\n",
        "else :\n",
        "    print(\"Not multiple of 2 and 5 both\")"
      ],
      "metadata": {
        "id": "c7lxWNp7uGqZ"
      },
      "execution_count": null,
      "outputs": []
    },
    {
      "cell_type": "markdown",
      "source": [
        "###Task 9###\n",
        "Python code of a program that finds the number of hours, minutes, and seconds in a\n",
        "given number of seconds. The number of seconds is taken as input from the user."
      ],
      "metadata": {
        "id": "XVsbr1j5u4Fb"
      }
    },
    {
      "cell_type": "code",
      "source": [
        "sec = int(input())\n",
        "hour = sec // 3600\n",
        "sec = sec % 3600\n",
        "min = sec // 60\n",
        "sec = sec % 60 \n",
        "print(\"Hours:\", hour, \"Minutes:\", min, \"Seconds:\", sec)"
      ],
      "metadata": {
        "id": "71ZYwb8uu-Tx",
        "colab": {
          "base_uri": "https://localhost:8080/"
        },
        "outputId": "3b562bc0-3350-43b3-db2d-289eef614b37"
      },
      "execution_count": null,
      "outputs": [
        {
          "output_type": "stream",
          "name": "stdout",
          "text": [
            "10000\n",
            "Hours: 2 Minutes: 46 Seconds: 40\n"
          ]
        }
      ]
    },
    {
      "cell_type": "markdown",
      "source": [
        "###Task 10###\n",
        "Python program to compute and display a person’s weekly salary as determined by the\n",
        "following conditions:\n",
        "- If the hours worked is less than or equal to 40, then the person receives Tk 200 per hour.\n",
        "- If the hours worked is greater than 40, then the person receives Tk 8000 plus Tk 300 for\n",
        "each hour worked over 40 hours.\n",
        "\n",
        "The program should request the hours worked as an input from the user and display the salary as\n",
        "output. You need to make sure that user input is valid. For example, a person cannot work for -5\n",
        "hours or more than 168 hours in a week. So, the valid hours range is 0 to 168. For invalid hours,\n",
        "print outputs as given in the samples below."
      ],
      "metadata": {
        "id": "RhXYio2lwb-3"
      }
    },
    {
      "cell_type": "code",
      "source": [
        "workhours = int(input())\n",
        "if workhours >= 0 :\n",
        "    if workhours <= 40 :\n",
        "        salary = workhours * 200\n",
        "        print( salary ) \n",
        "    elif workhours > 40 and workhours <= 168 :\n",
        "        salary = 8000 + (workhours - 40) * 300\n",
        "        print( salary )\n",
        "    else :\n",
        "        print(\"Impossible to work more than 168 hours weekly\")\n",
        "else :\n",
        "    print(\"Hour cannot be negative\")"
      ],
      "metadata": {
        "id": "T0JXVTg6wpXm"
      },
      "execution_count": null,
      "outputs": []
    },
    {
      "cell_type": "markdown",
      "source": [
        "###Task 11###"
      ],
      "metadata": {
        "id": "4-hczP_G0H-z"
      }
    },
    {
      "cell_type": "code",
      "source": [
        "import math\n",
        "S = int(input())\n",
        "if S < 100 :\n",
        "    L = 3000 - 125 * pow(S, 2)\n",
        "else :\n",
        "    L = 12000 / ( 4 + pow(S, 2)/14900 )\n",
        "print( L )"
      ],
      "metadata": {
        "colab": {
          "base_uri": "https://localhost:8080/"
        },
        "id": "w0edjYAb201C",
        "outputId": "5d69c611-66a4-42ca-9c06-b4d31282fa03"
      },
      "execution_count": null,
      "outputs": [
        {
          "output_type": "stream",
          "name": "stdout",
          "text": [
            "3\n",
            "1875\n"
          ]
        }
      ]
    },
    {
      "cell_type": "markdown",
      "source": [
        "###Task 12###"
      ],
      "metadata": {
        "id": "hTTw-CTd45-2"
      }
    },
    {
      "cell_type": "code",
      "source": [
        "hour = int( input() )\n",
        "if hour >= 0 and hour <= 24 :\n",
        "    if hour >= 4 and hour <= 6 :\n",
        "        print(\"Breakfast\")\n",
        "    elif hour >= 12 and hour <= 13 :\n",
        "        print(\"Lunch\")\n",
        "    elif hour >= 16 and hour <= 17 :\n",
        "        print(\"Snacks\")\n",
        "    elif hour >= 19 and hour <= 20 :\n",
        "        print(\"Dinner\")\n",
        "    else :\n",
        "        print(\"Patience is a virtue\")\n",
        "else :\n",
        "    print(\"Wrong time\")"
      ],
      "metadata": {
        "id": "z74_-Pcf9z5N",
        "colab": {
          "base_uri": "https://localhost:8080/"
        },
        "outputId": "72f19a53-4869-4974-e3d6-b846f49973d0"
      },
      "execution_count": null,
      "outputs": [
        {
          "output_type": "stream",
          "name": "stdout",
          "text": [
            "-1\n",
            "Wrong time\n"
          ]
        }
      ]
    },
    {
      "cell_type": "markdown",
      "source": [
        "###Task 13###"
      ],
      "metadata": {
        "id": "nhRcu2nrBw60"
      }
    },
    {
      "cell_type": "code",
      "source": [
        "marks = int(input())\n",
        "if marks >= 0 and marks <= 100 :\n",
        "    if marks >= 90 :\n",
        "        print(\"A\")\n",
        "    elif marks >= 80 and marks <= 89 :\n",
        "        print(\"B\")\n",
        "    elif marks >= 70 and marks <= 70 :\n",
        "        print(\"C\")\n",
        "    elif marks >= 60 and marks <= 69 :\n",
        "        print(\"D\")\n",
        "    elif marks >= 50 and marks <= 59 :\n",
        "        print(\"E\")\n",
        "    else :\n",
        "        print(\"F\")\n",
        "else :\n",
        "    quit()"
      ],
      "metadata": {
        "id": "b2arjtsjRZwJ"
      },
      "execution_count": null,
      "outputs": []
    },
    {
      "cell_type": "markdown",
      "source": [
        "###Task 14###\n"
      ],
      "metadata": {
        "id": "RJvT-fx7y186"
      }
    },
    {
      "cell_type": "code",
      "source": [
        "distance = int(input())\n",
        "time = int(input())\n",
        "velocity = (distance/1000) / (time / 3600)\n",
        "print(velocity, \"km/h\")\n",
        "if velocity < 60 :\n",
        "    print(\"Too slow. Needs more changes.\")\n",
        "elif velocity >= 60 and velocity <= 90 :\n",
        "    print(\"Velocity is okay. The car is ready!\")\n",
        "else :\n",
        "    print(\"Too fast. Only a few changes should suffice.\")"
      ],
      "metadata": {
        "colab": {
          "base_uri": "https://localhost:8080/"
        },
        "id": "DLeyZQiQ1kFi",
        "outputId": "344941c1-ed22-44f6-eed8-84504b289010"
      },
      "execution_count": null,
      "outputs": [
        {
          "output_type": "stream",
          "name": "stdout",
          "text": [
            "160000\n",
            "7200\n",
            "80.0 km/h\n",
            "Velocity is okay. The car is ready!\n"
          ]
        }
      ]
    },
    {
      "cell_type": "markdown",
      "source": [
        "###Task 15###"
      ],
      "metadata": {
        "id": "3r4_zPMs4ZJp"
      }
    },
    {
      "cell_type": "code",
      "source": [
        "cgpa = float(input())\n",
        "credit_completed = float(input())\n",
        "if cgpa >= 3.80 and credit_completed >= 30 :\n",
        "    if cgpa <= 3.89 :\n",
        "        waiver = 25       \n",
        "    elif cgpa >= 3.90 and cgpa <= 3.94 :\n",
        "        waiver = 50\n",
        "    elif cgpa >= 3.95 and cgpa <= 3.99 :\n",
        "        waiver = 75\n",
        "    elif cgpa == 4 :\n",
        "        waiver = 100\n",
        "else :\n",
        "    waiver = 0\n",
        "if waiver == 0 :\n",
        "    print(\"The student is not eligible for a waiver.\")\n",
        "else :\n",
        "    print(\"The student is eligible for a waiver of\", waiver, \"percent\")"
      ],
      "metadata": {
        "colab": {
          "base_uri": "https://localhost:8080/"
        },
        "id": "xAKQhh4u4cWZ",
        "outputId": "f9331ca1-994a-45a6-b411-f0d6f8f98bf3"
      },
      "execution_count": 9,
      "outputs": [
        {
          "output_type": "stream",
          "name": "stdout",
          "text": [
            "3.93\n",
            "30\n",
            "The student is eligible for a waiver of 50 percent\n"
          ]
        }
      ]
    },
    {
      "cell_type": "markdown",
      "source": [
        "###Task 16###\n",
        "|p|q|r|sum|\n",
        "|--- | --- | --- | --- |\n",
        "|5|6|9|0|"
      ],
      "metadata": {
        "id": "1L8rSQgOZdz2"
      }
    },
    {
      "cell_type": "code",
      "source": [
        "var1 = var2 = var3 = var4 = var5 = var6 = False\n",
        "result1 = result2 = result3 = result4 = result5 = result6 = False\n",
        "result7 = result8 = result9 = result10 = False\n",
        "var1 = (not False or False) and True\n",
        "var2 = var1 and True\n",
        "var3 = False and not True\n",
        "var4 = True\n",
        "var5 = False\n",
        "var6 = var3 and True\n",
        "result1 = (var1 and var2) and ( 40 % 3 > 45) or (var5 and var6)\n",
        "result2 = (var1 or var2) or (result1 and False)\n",
        "result3 = (var1 and result1) or result2 or var5\n",
        "result4 = (var1 or var2) or ((var3 and var1) and False)\n",
        "result5 = (var1 and var2) and (result3 or var1)\n",
        "result6 = ((var3 or not var2) and (result5)) or True\n",
        "result7 = (var4 and result1) and ((result1 and False) or True)\n",
        "result8 = ((var1 and result3) and (not var5 or var6)) and True\n",
        "result9 = ((result2 and var2) or (not result7 and var1)) and not False\n",
        "result10 = not (var1 and True)\n",
        "print(result1)\n",
        "print(result2)\n",
        "print(result3)\n",
        "print(result4)\n",
        "print(result5)\n",
        "print(result6)\n",
        "print(result7)\n",
        "print(result8)\n",
        "print(result9)\n",
        "print(result10)"
      ],
      "metadata": {
        "id": "6b4VOXdzhRNL"
      },
      "execution_count": null,
      "outputs": []
    }
  ],
  "metadata": {
    "language_info": {
      "name": "python"
    },
    "orig_nbformat": 4,
    "colab": {
      "name": "assignment1.ipynb",
      "provenance": [],
      "collapsed_sections": [],
      "include_colab_link": true
    },
    "kernelspec": {
      "name": "python3",
      "display_name": "Python 3"
    }
  },
  "nbformat": 4,
  "nbformat_minor": 0
}